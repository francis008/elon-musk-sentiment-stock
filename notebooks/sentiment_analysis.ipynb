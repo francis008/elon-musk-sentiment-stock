{
 "cells": [
  {
   "cell_type": "code",
   "execution_count": 15,
   "id": "b3a19a00",
   "metadata": {},
   "outputs": [],
   "source": [
    "import pandas as pd\n",
    "from vaderSentiment.vaderSentiment import SentimentIntensityAnalyzer"
   ]
  },
  {
   "cell_type": "code",
   "execution_count": 9,
   "id": "4926cbcb",
   "metadata": {},
   "outputs": [
    {
     "name": "stdout",
     "output_type": "stream",
     "text": [
      "<class 'pandas.core.frame.DataFrame'>\n",
      "RangeIndex: 7273 entries, 0 to 7272\n",
      "Data columns (total 21 columns):\n",
      " #   Column                     Non-Null Count  Dtype  \n",
      "---  ------                     --------------  -----  \n",
      " 0   orig_tweet_id              7273 non-null   int64  \n",
      " 1   orig_tweet_created_at      7273 non-null   object \n",
      " 2   orig_tweet_text            7273 non-null   object \n",
      " 3   orig_tweet_url             7273 non-null   object \n",
      " 4   orig_tweet_twitter_url     7273 non-null   object \n",
      " 5   orig_tweet_username        7273 non-null   object \n",
      " 6   orig_tweet_retweet_count   7273 non-null   int64  \n",
      " 7   orig_tweet_reply_count     7273 non-null   int64  \n",
      " 8   orig_tweet_like_count      7273 non-null   int64  \n",
      " 9   orig_tweet_quote_count     7273 non-null   int64  \n",
      " 10  orig_tweet_view_count      6760 non-null   float64\n",
      " 11  orig_tweet_bookmark_count  7273 non-null   int64  \n",
      " 12  musk_tweet_id              7273 non-null   int64  \n",
      " 13  musk_quote_tweet           7273 non-null   object \n",
      " 14  musk_quote_retweet_count   7273 non-null   int64  \n",
      " 15  musk_quote_reply_count     7273 non-null   int64  \n",
      " 16  musk_quote_like_count      7273 non-null   int64  \n",
      " 17  musk_quote_quote_count     7273 non-null   int64  \n",
      " 18  musk_quote_view_count      6779 non-null   float64\n",
      " 19  musk_quote_bookmark_count  7273 non-null   int64  \n",
      " 20  musk_quote_created_at      7273 non-null   object \n",
      "dtypes: float64(2), int64(12), object(7)\n",
      "memory usage: 1.2+ MB\n",
      "None\n"
     ]
    }
   ],
   "source": [
    "df = pd.read_csv(\"/Users/francis/Desktop/Github/elon-musk-sentiment-stock/data/musk_quote_tweets.csv\")\n",
    "print(df.info())"
   ]
  },
  {
   "cell_type": "code",
   "execution_count": 10,
   "id": "76eeb903",
   "metadata": {},
   "outputs": [],
   "source": [
    "df[\"musk_quote_created_at\"] = pd.to_datetime(df[\"musk_quote_created_at\"])"
   ]
  },
  {
   "cell_type": "code",
   "execution_count": 13,
   "id": "2779db85",
   "metadata": {},
   "outputs": [
    {
     "name": "stdout",
     "output_type": "stream",
     "text": [
      "      musk_quote_created_at             musk_quote_tweet\n",
      "0 2023-05-09 16:50:16+00:00                          Yup\n",
      "1 2023-05-09 16:12:06+00:00  Massive public manipulation\n",
      "2 2023-04-15 20:42:55+00:00                            💯\n",
      "3 2023-04-12 19:07:08+00:00                           🤣🤣\n",
      "4 2023-03-27 01:57:41+00:00                    Prescient\n"
     ]
    }
   ],
   "source": [
    "print(df[[\"musk_quote_created_at\", \"musk_quote_tweet\"]].head(5))"
   ]
  },
  {
   "cell_type": "code",
   "execution_count": 21,
   "id": "b7a8fd4e",
   "metadata": {},
   "outputs": [],
   "source": [
    "analyzer = SentimentIntensityAnalyzer()\n",
    "def get_vader_sentiment(text):\n",
    "    score = analyzer.polarity_scores(str(text))\n",
    "    return score[\"compound\"]\n",
    "\n",
    "df[\"vader_compound\"] = df[\"musk_quote_tweet\"].apply(get_vader_sentiment)"
   ]
  },
  {
   "cell_type": "code",
   "execution_count": 22,
   "id": "d8aa1c22",
   "metadata": {},
   "outputs": [],
   "source": [
    "def classify_sentiment(compound):\n",
    "    if compound >= 0.05:\n",
    "        return \"positive\"\n",
    "    elif compound <= -0.05:\n",
    "        return \"negative\"\n",
    "    else:\n",
    "        return \"neutral\"\n",
    "    \n",
    "df[\"vader_label\"] = df[\"vader_compound\"].apply(classify_sentiment)\n",
    "\n"
   ]
  },
  {
   "cell_type": "code",
   "execution_count": 23,
   "id": "de652004",
   "metadata": {},
   "outputs": [
    {
     "name": "stdout",
     "output_type": "stream",
     "text": [
      "      musk_quote_created_at             musk_quote_tweet  vader_compound  \\\n",
      "0 2023-05-09 16:50:16+00:00                          Yup          0.0000   \n",
      "1 2023-05-09 16:12:06+00:00  Massive public manipulation         -0.2960   \n",
      "2 2023-04-15 20:42:55+00:00                            💯          0.0000   \n",
      "3 2023-04-12 19:07:08+00:00                           🤣🤣          0.7506   \n",
      "4 2023-03-27 01:57:41+00:00                    Prescient          0.0000   \n",
      "\n",
      "  vader_label  \n",
      "0     neutral  \n",
      "1    negative  \n",
      "2     neutral  \n",
      "3    positive  \n",
      "4     neutral  \n"
     ]
    }
   ],
   "source": [
    "df.to_csv(\"/Users/francis/Desktop/Github/elon-musk-sentiment-stock/data/musk_quote_with_sentiment.csv\", index=False)\n",
    "print(df[[\"musk_quote_created_at\", \"musk_quote_tweet\", \"vader_compound\", \"vader_label\"]].head(5))"
   ]
  }
 ],
 "metadata": {
  "kernelspec": {
   "display_name": ".venv",
   "language": "python",
   "name": "python3"
  },
  "language_info": {
   "codemirror_mode": {
    "name": "ipython",
    "version": 3
   },
   "file_extension": ".py",
   "mimetype": "text/x-python",
   "name": "python",
   "nbconvert_exporter": "python",
   "pygments_lexer": "ipython3",
   "version": "3.12.6"
  }
 },
 "nbformat": 4,
 "nbformat_minor": 5
}
