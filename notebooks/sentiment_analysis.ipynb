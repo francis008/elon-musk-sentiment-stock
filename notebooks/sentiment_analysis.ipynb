{
 "cells": [
  {
   "cell_type": "code",
   "execution_count": 1,
   "id": "b3a19a00",
   "metadata": {},
   "outputs": [],
   "source": [
    "import pandas as pd\n",
    "from vaderSentiment.vaderSentiment import SentimentIntensityAnalyzer"
   ]
  },
  {
   "cell_type": "code",
   "execution_count": 2,
   "id": "4926cbcb",
   "metadata": {},
   "outputs": [
    {
     "name": "stdout",
     "output_type": "stream",
     "text": [
      "<class 'pandas.core.frame.DataFrame'>\n",
      "RangeIndex: 7273 entries, 0 to 7272\n",
      "Data columns (total 21 columns):\n",
      " #   Column                     Non-Null Count  Dtype  \n",
      "---  ------                     --------------  -----  \n",
      " 0   orig_tweet_id              7273 non-null   int64  \n",
      " 1   orig_tweet_created_at      7273 non-null   object \n",
      " 2   orig_tweet_text            7273 non-null   object \n",
      " 3   orig_tweet_url             7273 non-null   object \n",
      " 4   orig_tweet_twitter_url     7273 non-null   object \n",
      " 5   orig_tweet_username        7273 non-null   object \n",
      " 6   orig_tweet_retweet_count   7273 non-null   int64  \n",
      " 7   orig_tweet_reply_count     7273 non-null   int64  \n",
      " 8   orig_tweet_like_count      7273 non-null   int64  \n",
      " 9   orig_tweet_quote_count     7273 non-null   int64  \n",
      " 10  orig_tweet_view_count      6760 non-null   float64\n",
      " 11  orig_tweet_bookmark_count  7273 non-null   int64  \n",
      " 12  musk_tweet_id              7273 non-null   int64  \n",
      " 13  musk_quote_tweet           7273 non-null   object \n",
      " 14  musk_quote_retweet_count   7273 non-null   int64  \n",
      " 15  musk_quote_reply_count     7273 non-null   int64  \n",
      " 16  musk_quote_like_count      7273 non-null   int64  \n",
      " 17  musk_quote_quote_count     7273 non-null   int64  \n",
      " 18  musk_quote_view_count      6779 non-null   float64\n",
      " 19  musk_quote_bookmark_count  7273 non-null   int64  \n",
      " 20  musk_quote_created_at      7273 non-null   object \n",
      "dtypes: float64(2), int64(12), object(7)\n",
      "memory usage: 1.2+ MB\n",
      "None\n"
     ]
    }
   ],
   "source": [
    "df = pd.read_csv(\"/Users/francis/Desktop/Github/elon-musk-sentiment-stock/data/musk_quote_tweets.csv\")\n",
    "print(df.info())"
   ]
  },
  {
   "cell_type": "code",
   "execution_count": 10,
   "id": "76eeb903",
   "metadata": {},
   "outputs": [],
   "source": [
    "df[\"musk_quote_created_at\"] = pd.to_datetime(df[\"musk_quote_created_at\"])"
   ]
  },
  {
   "cell_type": "code",
   "execution_count": 4,
   "id": "2779db85",
   "metadata": {},
   "outputs": [
    {
     "name": "stdout",
     "output_type": "stream",
     "text": [
      "        musk_quote_created_at  \\\n",
      "0   2023-05-09 16:50:16+00:00   \n",
      "1   2023-05-09 16:12:06+00:00   \n",
      "2   2023-04-15 20:42:55+00:00   \n",
      "3   2023-04-12 19:07:08+00:00   \n",
      "4   2023-03-27 01:57:41+00:00   \n",
      "5   2023-03-12 03:02:47+00:00   \n",
      "6   2024-01-02 17:26:21+00:00   \n",
      "7   2023-06-29 01:19:59+00:00   \n",
      "8   2023-06-27 23:14:26+00:00   \n",
      "9   2023-06-27 05:32:23+00:00   \n",
      "10  2023-06-26 18:48:51+00:00   \n",
      "11  2023-06-24 12:34:57+00:00   \n",
      "12  2023-06-21 03:31:39+00:00   \n",
      "13  2023-06-17 11:50:19+00:00   \n",
      "14  2023-06-14 06:28:59+00:00   \n",
      "15  2023-06-14 04:49:38+00:00   \n",
      "16  2023-06-14 03:55:45+00:00   \n",
      "17  2023-06-09 23:14:58+00:00   \n",
      "18  2023-06-08 23:09:11+00:00   \n",
      "19  2023-06-08 21:06:46+00:00   \n",
      "\n",
      "                                     musk_quote_tweet  \n",
      "0                                                 Yup  \n",
      "1                         Massive public manipulation  \n",
      "2                                                   💯  \n",
      "3                                                  🤣🤣  \n",
      "4                                           Prescient  \n",
      "5                                               Yay!!  \n",
      "6        Congratulations Tesla team on a great year!!  \n",
      "7                             Improved longform posts  \n",
      "8                                     Prelude to Mars  \n",
      "9                Key milestone completed for flight 2  \n",
      "10  “Ads” like this where you learn or are enterta...  \n",
      "11  Best coverage of the situation I’ve seen so fa...  \n",
      "12              Great conversation with @NarendraModi  \n",
      "13  Great to see so many country and company leade...  \n",
      "14  Once again, I’d like to offer this platform to...  \n",
      "15                                               Bold  \n",
      "16                             Why ESG is the devil …  \n",
      "17                                     Big difference  \n",
      "18  It’d be great to have @maddow, @donlemon &amp;...  \n",
      "19                            Great to work with you!  \n"
     ]
    }
   ],
   "source": [
    "print(df[[\"musk_quote_created_at\", \"musk_quote_tweet\"]].head(20))"
   ]
  },
  {
   "cell_type": "code",
   "execution_count": 21,
   "id": "b7a8fd4e",
   "metadata": {},
   "outputs": [],
   "source": [
    "analyzer = SentimentIntensityAnalyzer()\n",
    "def get_vader_sentiment(text):\n",
    "    score = analyzer.polarity_scores(str(text))\n",
    "    return score[\"compound\"]\n",
    "\n",
    "df[\"vader_compound\"] = df[\"musk_quote_tweet\"].apply(get_vader_sentiment)"
   ]
  },
  {
   "cell_type": "code",
   "execution_count": 22,
   "id": "d8aa1c22",
   "metadata": {},
   "outputs": [],
   "source": [
    "def classify_sentiment(compound):\n",
    "    if compound >= 0.05:\n",
    "        return \"positive\"\n",
    "    elif compound <= -0.05:\n",
    "        return \"negative\"\n",
    "    else:\n",
    "        return \"neutral\"\n",
    "    \n",
    "df[\"vader_label\"] = df[\"vader_compound\"].apply(classify_sentiment)\n",
    "\n"
   ]
  },
  {
   "cell_type": "code",
   "execution_count": 23,
   "id": "de652004",
   "metadata": {},
   "outputs": [
    {
     "name": "stdout",
     "output_type": "stream",
     "text": [
      "      musk_quote_created_at             musk_quote_tweet  vader_compound  \\\n",
      "0 2023-05-09 16:50:16+00:00                          Yup          0.0000   \n",
      "1 2023-05-09 16:12:06+00:00  Massive public manipulation         -0.2960   \n",
      "2 2023-04-15 20:42:55+00:00                            💯          0.0000   \n",
      "3 2023-04-12 19:07:08+00:00                           🤣🤣          0.7506   \n",
      "4 2023-03-27 01:57:41+00:00                    Prescient          0.0000   \n",
      "\n",
      "  vader_label  \n",
      "0     neutral  \n",
      "1    negative  \n",
      "2     neutral  \n",
      "3    positive  \n",
      "4     neutral  \n"
     ]
    }
   ],
   "source": [
    "df.to_csv(\"/Users/francis/Desktop/Github/elon-musk-sentiment-stock/data/musk_quote_with_sentiment.csv\", index=False)\n",
    "print(df[[\"musk_quote_created_at\", \"musk_quote_tweet\", \"vader_compound\", \"vader_label\"]].head(5))"
   ]
  }
 ],
 "metadata": {
  "kernelspec": {
   "display_name": ".venv",
   "language": "python",
   "name": "python3"
  },
  "language_info": {
   "codemirror_mode": {
    "name": "ipython",
    "version": 3
   },
   "file_extension": ".py",
   "mimetype": "text/x-python",
   "name": "python",
   "nbconvert_exporter": "python",
   "pygments_lexer": "ipython3",
   "version": "3.12.6"
  }
 },
 "nbformat": 4,
 "nbformat_minor": 5
}
